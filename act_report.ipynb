{
 "cells": [
  {
   "cell_type": "markdown",
   "metadata": {},
   "source": [
    "## Report: act_report\n",
    "* Create a **250-word-minimum written report** called \"act_report.pdf\" or \"act_report.html\" that communicates the insights and displays the visualization(s) produced from your wrangled data. This is to be framed as an external document, like a blog post or magazine article, for example."
   ]
  },
  {
   "cell_type": "markdown",
   "metadata": {},
   "source": [
    "## act-report by Grace Amah"
   ]
  },
  {
   "cell_type": "markdown",
   "metadata": {},
   "source": [
    "WeRateDogs is twitter account that was based on rating dogs breeds of different parts and based on how they \n",
    "rate on breeds ,qualities and ratings based on special powers and abilities.\n",
    "\n",
    "WeRateDogs, \n",
    "with the Dogs ratings there were some common results emerging from this, \n",
    "depending on retweets, reply_to_retweets.\n",
    "\n",
    "under image-predictions, hence and there several status information  based on :\n",
    "    first-predictions, \n",
    "    second-predicitons,and\n",
    "    third-predictions images.\n",
    "there are:\n",
    "    Image_predictions some popular dog breeds documented were:\n",
    "        rhodeshian-ridgeback,shetland-sheepdog,welsh-springer-spaniel,\n",
    "        red-bone,"
   ]
  },
  {
   "cell_type": "markdown",
   "metadata": {},
   "source": [
    "### Using python liberaries, \n",
    "i have generated a number of dog breeds and \n",
    "their rating based on the tweets populated in the data information.\n"
   ]
  },
  {
   "cell_type": "markdown",
   "metadata": {},
   "source": [
    "\n"
   ]
  },
  {
   "cell_type": "markdown",
   "metadata": {},
   "source": [
    "### first WeRateDogsImage(Welsh_springer_spaniel)¶"
   ]
  },
  {
   "cell_type": "code",
   "execution_count": null,
   "metadata": {},
   "outputs": [],
   "source": [
    "welsh_springer-spaniel\n",
    "is ajapanese breed dog rated in the tweets as a populous dog and breed .\n",
    "The imagery of a dog relaxing on the stairs and and with a visual documentations of the different apperances.\n"
   ]
  },
  {
   "cell_type": "markdown",
   "metadata": {},
   "source": [
    "### second WeRateDogsImage(German_shepherd)¶"
   ]
  },
  {
   "cell_type": "code",
   "execution_count": null,
   "metadata": {},
   "outputs": [],
   "source": [
    "we have the German_shepherd, \n",
    "a popular breed and ratings. a special breed rated among the other breeds analyzed in the main report. \n",
    "The German_shepherd is also generated.\n"
   ]
  },
  {
   "cell_type": "markdown",
   "metadata": {},
   "source": [
    "### third WeRateDogsImage(miniature_pinscher)\n"
   ]
  },
  {
   "cell_type": "markdown",
   "metadata": {},
   "source": [
    "However, finally imagery dog breed is miniature_pinscher.\n",
    "a popular dog breed during the ratings and analysis of twitter ratings."
   ]
  },
  {
   "cell_type": "markdown",
   "metadata": {},
   "source": [
    "Retweets, \n",
    "favourites and ratings from the files\n",
    "\n",
    "According to the tweets , files and many of the retweets were retweeted.\n",
    "there are corelations between retweets, ratings and favourites.\n",
    "hence, \n",
    "achieved through using several libraries seaborne and python libraties."
   ]
  },
  {
   "cell_type": "code",
   "execution_count": null,
   "metadata": {},
   "outputs": [],
   "source": []
  }
 ],
 "metadata": {
  "kernelspec": {
   "display_name": "Python 3",
   "language": "python",
   "name": "python3"
  },
  "language_info": {
   "codemirror_mode": {
    "name": "ipython",
    "version": 3
   },
   "file_extension": ".py",
   "mimetype": "text/x-python",
   "name": "python",
   "nbconvert_exporter": "python",
   "pygments_lexer": "ipython3",
   "version": "3.6.3"
  }
 },
 "nbformat": 4,
 "nbformat_minor": 2
}
